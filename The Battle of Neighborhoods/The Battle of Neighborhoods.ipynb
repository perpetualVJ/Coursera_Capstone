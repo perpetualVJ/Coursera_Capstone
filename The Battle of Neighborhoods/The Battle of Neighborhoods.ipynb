{
 "cells": [
  {
   "cell_type": "markdown",
   "metadata": {},
   "source": [
    "# IBM Capstone Project - The Battle of Neighborhoods"
   ]
  },
  {
   "cell_type": "code",
   "execution_count": 5,
   "metadata": {},
   "outputs": [],
   "source": [
    "#Importing libraries\n",
    "import pandas as pd\n",
    "import numpy as np\n",
    "import matplotlib.pyplot as plt\n",
    "import seaborn as sns\n",
    "import folium"
   ]
  },
  {
   "cell_type": "markdown",
   "metadata": {},
   "source": [
    "### Introduction"
   ]
  },
  {
   "cell_type": "markdown",
   "metadata": {},
   "source": [
    "Kanpur and Lucknow are the two most important cities of Uttar Pradesh. Lucknow is the capital city of the Indian state of Uttar Pradesh, whereas is also the second largest city proper and the largest urban agglomeration in Uttar Pradesh. The two cities being in Uttar Pradesh have various similarities and dissimilarities. This study focuses on finding the similarities within neighborhoods of each cities and tries to understand the tradition and culture of each neighborhood. \n",
    "\n"
   ]
  },
  {
   "cell_type": "markdown",
   "metadata": {},
   "source": [
    "Based on the venues and culture for which neighborhoods are famous for, business persons can set up their ventures like restaurants, hotels etc."
   ]
  },
  {
   "cell_type": "markdown",
   "metadata": {},
   "source": [
    "### Dataset description"
   ]
  },
  {
   "cell_type": "markdown",
   "metadata": {},
   "source": [
    "The data of neighborhoods is collected through <a href = \"https://data.gov.in/resources/all-india-pincode-directory-contact-details-along-latitude-and-longitude\" >https://data.gov.in<a>.    "
   ]
  },
  {
   "cell_type": "markdown",
   "metadata": {},
   "source": [
    "All india Pincode Directory contains all the pin-code list across India with geocodes and other relevant information like Office Name, Office Type, Delivery Status, Division, Region, Circle, Taluk, Districts, States, Telephones, Related Sub office and Related Head office etc. Postal Index Number (PIN) or PIN Code is a 6 digit code of Post Office numbering used by India Post. \n",
    "<br>"
   ]
  },
  {
   "cell_type": "markdown",
   "metadata": {},
   "source": [
    "The first five rows of our dataset is as follows-"
   ]
  },
  {
   "cell_type": "code",
   "execution_count": 9,
   "metadata": {},
   "outputs": [
    {
     "data": {
      "text/html": [
       "<div>\n",
       "<style scoped>\n",
       "    .dataframe tbody tr th:only-of-type {\n",
       "        vertical-align: middle;\n",
       "    }\n",
       "\n",
       "    .dataframe tbody tr th {\n",
       "        vertical-align: top;\n",
       "    }\n",
       "\n",
       "    .dataframe thead th {\n",
       "        text-align: right;\n",
       "    }\n",
       "</style>\n",
       "<table border=\"1\" class=\"dataframe\">\n",
       "  <thead>\n",
       "    <tr style=\"text-align: right;\">\n",
       "      <th></th>\n",
       "      <th>officename</th>\n",
       "      <th>pincode</th>\n",
       "      <th>officeType</th>\n",
       "      <th>Deliverystatus</th>\n",
       "      <th>divisionname</th>\n",
       "      <th>regionname</th>\n",
       "      <th>circlename</th>\n",
       "      <th>Taluk</th>\n",
       "      <th>Districtname</th>\n",
       "      <th>statename</th>\n",
       "      <th>Telephone</th>\n",
       "      <th>Related Suboffice</th>\n",
       "      <th>Related Headoffice</th>\n",
       "      <th>longitude</th>\n",
       "      <th>latitude</th>\n",
       "    </tr>\n",
       "  </thead>\n",
       "  <tbody>\n",
       "    <tr>\n",
       "      <td>0</td>\n",
       "      <td>Achalapur B.O</td>\n",
       "      <td>504273</td>\n",
       "      <td>B.O</td>\n",
       "      <td>Delivery</td>\n",
       "      <td>Adilabad</td>\n",
       "      <td>Hyderabad</td>\n",
       "      <td>Andhra Pradesh</td>\n",
       "      <td>Asifabad</td>\n",
       "      <td>Adilabad</td>\n",
       "      <td>TELANGANA</td>\n",
       "      <td>NaN</td>\n",
       "      <td>Rechini S.O</td>\n",
       "      <td>Mancherial H.O</td>\n",
       "      <td>NaN</td>\n",
       "      <td>NaN</td>\n",
       "    </tr>\n",
       "    <tr>\n",
       "      <td>1</td>\n",
       "      <td>Ada B.O</td>\n",
       "      <td>504293</td>\n",
       "      <td>B.O</td>\n",
       "      <td>Delivery</td>\n",
       "      <td>Adilabad</td>\n",
       "      <td>Hyderabad</td>\n",
       "      <td>Andhra Pradesh</td>\n",
       "      <td>Asifabad</td>\n",
       "      <td>Adilabad</td>\n",
       "      <td>TELANGANA</td>\n",
       "      <td>NaN</td>\n",
       "      <td>Asifabad S.O</td>\n",
       "      <td>Mancherial H.O</td>\n",
       "      <td>NaN</td>\n",
       "      <td>NaN</td>\n",
       "    </tr>\n",
       "    <tr>\n",
       "      <td>2</td>\n",
       "      <td>Adegaon B.O</td>\n",
       "      <td>504307</td>\n",
       "      <td>B.O</td>\n",
       "      <td>Delivery</td>\n",
       "      <td>Adilabad</td>\n",
       "      <td>Hyderabad</td>\n",
       "      <td>Andhra Pradesh</td>\n",
       "      <td>Boath</td>\n",
       "      <td>Adilabad</td>\n",
       "      <td>TELANGANA</td>\n",
       "      <td>NaN</td>\n",
       "      <td>Echoda S.O</td>\n",
       "      <td>Adilabad H.O</td>\n",
       "      <td>NaN</td>\n",
       "      <td>NaN</td>\n",
       "    </tr>\n",
       "    <tr>\n",
       "      <td>3</td>\n",
       "      <td>Adilabad Collectorate S.O</td>\n",
       "      <td>504001</td>\n",
       "      <td>S.O</td>\n",
       "      <td>Non-Delivery</td>\n",
       "      <td>Adilabad</td>\n",
       "      <td>Hyderabad</td>\n",
       "      <td>Andhra Pradesh</td>\n",
       "      <td>Adilabad</td>\n",
       "      <td>Adilabad</td>\n",
       "      <td>TELANGANA</td>\n",
       "      <td>08732-226703</td>\n",
       "      <td>NaN</td>\n",
       "      <td>Adilabad H.O</td>\n",
       "      <td>NaN</td>\n",
       "      <td>NaN</td>\n",
       "    </tr>\n",
       "    <tr>\n",
       "      <td>4</td>\n",
       "      <td>Adilabad H.O</td>\n",
       "      <td>504001</td>\n",
       "      <td>H.O</td>\n",
       "      <td>Delivery</td>\n",
       "      <td>Adilabad</td>\n",
       "      <td>Hyderabad</td>\n",
       "      <td>Andhra Pradesh</td>\n",
       "      <td>Adilabad</td>\n",
       "      <td>Adilabad</td>\n",
       "      <td>TELANGANA</td>\n",
       "      <td>08732-226738</td>\n",
       "      <td>NaN</td>\n",
       "      <td>NaN</td>\n",
       "      <td>NaN</td>\n",
       "      <td>NaN</td>\n",
       "    </tr>\n",
       "  </tbody>\n",
       "</table>\n",
       "</div>"
      ],
      "text/plain": [
       "                  officename  pincode officeType Deliverystatus divisionname  \\\n",
       "0              Achalapur B.O   504273        B.O       Delivery     Adilabad   \n",
       "1                    Ada B.O   504293        B.O       Delivery     Adilabad   \n",
       "2                Adegaon B.O   504307        B.O       Delivery     Adilabad   \n",
       "3  Adilabad Collectorate S.O   504001        S.O   Non-Delivery     Adilabad   \n",
       "4               Adilabad H.O   504001        H.O       Delivery     Adilabad   \n",
       "\n",
       "  regionname      circlename     Taluk Districtname  statename     Telephone  \\\n",
       "0  Hyderabad  Andhra Pradesh  Asifabad     Adilabad  TELANGANA           NaN   \n",
       "1  Hyderabad  Andhra Pradesh  Asifabad     Adilabad  TELANGANA           NaN   \n",
       "2  Hyderabad  Andhra Pradesh     Boath     Adilabad  TELANGANA           NaN   \n",
       "3  Hyderabad  Andhra Pradesh  Adilabad     Adilabad  TELANGANA  08732-226703   \n",
       "4  Hyderabad  Andhra Pradesh  Adilabad     Adilabad  TELANGANA  08732-226738   \n",
       "\n",
       "  Related Suboffice Related Headoffice  longitude  latitude  \n",
       "0       Rechini S.O     Mancherial H.O        NaN       NaN  \n",
       "1      Asifabad S.O     Mancherial H.O        NaN       NaN  \n",
       "2        Echoda S.O       Adilabad H.O        NaN       NaN  \n",
       "3               NaN       Adilabad H.O        NaN       NaN  \n",
       "4               NaN                NaN        NaN       NaN  "
      ]
     },
     "execution_count": 9,
     "metadata": {},
     "output_type": "execute_result"
    }
   ],
   "source": [
    "#Loading data\n",
    "data = pd.read_csv('DATASET/all_india_PO_list_without_APS_offices_ver2_lat_long.csv')\n",
    "\n",
    "#First five rows of data\n",
    "data.head()"
   ]
  },
  {
   "cell_type": "markdown",
   "metadata": {},
   "source": [
    "From the above dataset, appropriate rows with Districtname Kanpur Nagar and Lucknow will be fetched for the purpose of analysis. The attributes like officename, pincode, Districtname, will be fetched."
   ]
  }
 ],
 "metadata": {
  "kernelspec": {
   "display_name": "Python 3",
   "language": "python",
   "name": "python3"
  },
  "language_info": {
   "codemirror_mode": {
    "name": "ipython",
    "version": 3
   },
   "file_extension": ".py",
   "mimetype": "text/x-python",
   "name": "python",
   "nbconvert_exporter": "python",
   "pygments_lexer": "ipython3",
   "version": "3.7.4"
  }
 },
 "nbformat": 4,
 "nbformat_minor": 2
}
